{
  "nbformat": 4,
  "nbformat_minor": 0,
  "metadata": {
    "colab": {
      "provenance": [],
      "authorship_tag": "ABX9TyOc0t0Dbnrb6nu0I9rrHdGN",
      "include_colab_link": true
    },
    "kernelspec": {
      "name": "python3",
      "display_name": "Python 3"
    },
    "language_info": {
      "name": "python"
    }
  },
  "cells": [
    {
      "cell_type": "markdown",
      "metadata": {
        "id": "view-in-github",
        "colab_type": "text"
      },
      "source": [
        "<a href=\"https://colab.research.google.com/github/sashajoanna/sjw/blob/master/Logistic_Regression.ipynb\" target=\"_parent\"><img src=\"https://colab.research.google.com/assets/colab-badge.svg\" alt=\"Open In Colab\"/></a>"
      ]
    },
    {
      "cell_type": "code",
      "execution_count": null,
      "metadata": {
        "colab": {
          "base_uri": "https://localhost:8080/"
        },
        "id": "vr8nUfXBLg9X",
        "outputId": "fb8b45fa-425d-435f-d983-9e895af6785c"
      },
      "outputs": [
        {
          "output_type": "stream",
          "name": "stdout",
          "text": [
            "Authenticated\n"
          ]
        }
      ],
      "source": [
        "from google.colab import auth\n",
        "auth.authenticate_user()\n",
        "print('Authenticated')"
      ]
    },
    {
      "cell_type": "code",
      "source": [
        "# import Python libraries\n",
        "import os #provides functions for interacting with the operating system\n",
        "import numpy as np \n",
        "import pandas as pd\n",
        "from matplotlib import pyplot as plt\n",
        "import seaborn as sns\n",
        "from sklearn.linear_model import LinearRegression\n",
        "from sklearn.linear_model import LogisticRegression\n",
        "from sklearn.tree import DecisionTreeClassifier\n",
        "from sklearn.model_selection import train_test_split\n",
        "from sklearn.metrics import r2_score, explained_variance_score, confusion_matrix, accuracy_score, classification_report, log_loss, f1_score, plot_confusion_matrix\n",
        "from sklearn.preprocessing import StandardScaler\n",
        "from sklearn.utils import class_weight\n",
        "\n",
        "from math import sqrt\n",
        "\n",
        "%matplotlib inline"
      ],
      "metadata": {
        "id": "AfqobjBqLoDl"
      },
      "execution_count": null,
      "outputs": []
    },
    {
      "cell_type": "code",
      "source": [
        "# Get the data from BQ table\n",
        "%%bigquery df --project datalake-datamarts-production\n",
        "\n",
        "SELECT\n",
        "claimed, \n",
        "category,\n",
        "description,\n",
        "impressions\n",
        "FROM business_intelligence.sjw_has_review_impressions_yn"
      ],
      "metadata": {
        "colab": {
          "base_uri": "https://localhost:8080/"
        },
        "id": "uFkCFHraLtHe",
        "outputId": "c7bcab4b-a3e2-4479-ac3b-34cb4e5c04e7"
      },
      "execution_count": null,
      "outputs": [
        {
          "output_type": "stream",
          "name": "stderr",
          "text": [
            "Could not save output to variable 'df'.\n",
            "\n",
            "ERROR:\n",
            " (\"Failed to retrieve http://metadata.google.internal/computeMetadata/v1/instance/service-accounts/default/?recursive=true from the Google Compute Engine metadata service. Status: 404 Response:\\nb''\", <google.auth.transport.requests._Response object at 0x7f4f95d5b460>)\n"
          ]
        }
      ]
    },
    {
      "cell_type": "markdown",
      "source": [
        "# Cleaning data: removing NULLs"
      ],
      "metadata": {
        "id": "oHWm6Tg2kPig"
      }
    },
    {
      "cell_type": "code",
      "source": [
        "df.isnull().sum()\n"
      ],
      "metadata": {
        "colab": {
          "base_uri": "https://localhost:8080/"
        },
        "id": "IJSoCICANJuF",
        "outputId": "9547fcc8-98fe-4f33-cc55-cf22ee4dbf38"
      },
      "execution_count": null,
      "outputs": [
        {
          "output_type": "execute_result",
          "data": {
            "text/plain": [
              "claimed         0\n",
              "category        0\n",
              "description    10\n",
              "impressions     0\n",
              "dtype: int64"
            ]
          },
          "metadata": {},
          "execution_count": 48
        }
      ]
    },
    {
      "cell_type": "code",
      "source": [
        "df[df['description'].isnull()]\n"
      ],
      "metadata": {
        "colab": {
          "base_uri": "https://localhost:8080/",
          "height": 363
        },
        "id": "lJ-gORgeNbIq",
        "outputId": "d128c378-92a7-4e9f-b76d-e301375fcf72"
      },
      "execution_count": null,
      "outputs": [
        {
          "output_type": "execute_result",
          "data": {
            "text/plain": [
              "        claimed  category  description  impressions\n",
              "643166        1         1         <NA>            0\n",
              "643167        1         1         <NA>            0\n",
              "643168        1         1         <NA>            0\n",
              "643169        0         0         <NA>            0\n",
              "643170        0         1         <NA>            0\n",
              "643171        1         0         <NA>            0\n",
              "643172        1         1         <NA>            1\n",
              "643173        1         1         <NA>            1\n",
              "643174        1         1         <NA>            1\n",
              "643175        1         0         <NA>            1"
            ],
            "text/html": [
              "\n",
              "  <div id=\"df-d7e6b7af-fc50-480c-96cc-e6d47af001c0\">\n",
              "    <div class=\"colab-df-container\">\n",
              "      <div>\n",
              "<style scoped>\n",
              "    .dataframe tbody tr th:only-of-type {\n",
              "        vertical-align: middle;\n",
              "    }\n",
              "\n",
              "    .dataframe tbody tr th {\n",
              "        vertical-align: top;\n",
              "    }\n",
              "\n",
              "    .dataframe thead th {\n",
              "        text-align: right;\n",
              "    }\n",
              "</style>\n",
              "<table border=\"1\" class=\"dataframe\">\n",
              "  <thead>\n",
              "    <tr style=\"text-align: right;\">\n",
              "      <th></th>\n",
              "      <th>claimed</th>\n",
              "      <th>category</th>\n",
              "      <th>description</th>\n",
              "      <th>impressions</th>\n",
              "    </tr>\n",
              "  </thead>\n",
              "  <tbody>\n",
              "    <tr>\n",
              "      <th>643166</th>\n",
              "      <td>1</td>\n",
              "      <td>1</td>\n",
              "      <td>&lt;NA&gt;</td>\n",
              "      <td>0</td>\n",
              "    </tr>\n",
              "    <tr>\n",
              "      <th>643167</th>\n",
              "      <td>1</td>\n",
              "      <td>1</td>\n",
              "      <td>&lt;NA&gt;</td>\n",
              "      <td>0</td>\n",
              "    </tr>\n",
              "    <tr>\n",
              "      <th>643168</th>\n",
              "      <td>1</td>\n",
              "      <td>1</td>\n",
              "      <td>&lt;NA&gt;</td>\n",
              "      <td>0</td>\n",
              "    </tr>\n",
              "    <tr>\n",
              "      <th>643169</th>\n",
              "      <td>0</td>\n",
              "      <td>0</td>\n",
              "      <td>&lt;NA&gt;</td>\n",
              "      <td>0</td>\n",
              "    </tr>\n",
              "    <tr>\n",
              "      <th>643170</th>\n",
              "      <td>0</td>\n",
              "      <td>1</td>\n",
              "      <td>&lt;NA&gt;</td>\n",
              "      <td>0</td>\n",
              "    </tr>\n",
              "    <tr>\n",
              "      <th>643171</th>\n",
              "      <td>1</td>\n",
              "      <td>0</td>\n",
              "      <td>&lt;NA&gt;</td>\n",
              "      <td>0</td>\n",
              "    </tr>\n",
              "    <tr>\n",
              "      <th>643172</th>\n",
              "      <td>1</td>\n",
              "      <td>1</td>\n",
              "      <td>&lt;NA&gt;</td>\n",
              "      <td>1</td>\n",
              "    </tr>\n",
              "    <tr>\n",
              "      <th>643173</th>\n",
              "      <td>1</td>\n",
              "      <td>1</td>\n",
              "      <td>&lt;NA&gt;</td>\n",
              "      <td>1</td>\n",
              "    </tr>\n",
              "    <tr>\n",
              "      <th>643174</th>\n",
              "      <td>1</td>\n",
              "      <td>1</td>\n",
              "      <td>&lt;NA&gt;</td>\n",
              "      <td>1</td>\n",
              "    </tr>\n",
              "    <tr>\n",
              "      <th>643175</th>\n",
              "      <td>1</td>\n",
              "      <td>0</td>\n",
              "      <td>&lt;NA&gt;</td>\n",
              "      <td>1</td>\n",
              "    </tr>\n",
              "  </tbody>\n",
              "</table>\n",
              "</div>\n",
              "      <button class=\"colab-df-convert\" onclick=\"convertToInteractive('df-d7e6b7af-fc50-480c-96cc-e6d47af001c0')\"\n",
              "              title=\"Convert this dataframe to an interactive table.\"\n",
              "              style=\"display:none;\">\n",
              "        \n",
              "  <svg xmlns=\"http://www.w3.org/2000/svg\" height=\"24px\"viewBox=\"0 0 24 24\"\n",
              "       width=\"24px\">\n",
              "    <path d=\"M0 0h24v24H0V0z\" fill=\"none\"/>\n",
              "    <path d=\"M18.56 5.44l.94 2.06.94-2.06 2.06-.94-2.06-.94-.94-2.06-.94 2.06-2.06.94zm-11 1L8.5 8.5l.94-2.06 2.06-.94-2.06-.94L8.5 2.5l-.94 2.06-2.06.94zm10 10l.94 2.06.94-2.06 2.06-.94-2.06-.94-.94-2.06-.94 2.06-2.06.94z\"/><path d=\"M17.41 7.96l-1.37-1.37c-.4-.4-.92-.59-1.43-.59-.52 0-1.04.2-1.43.59L10.3 9.45l-7.72 7.72c-.78.78-.78 2.05 0 2.83L4 21.41c.39.39.9.59 1.41.59.51 0 1.02-.2 1.41-.59l7.78-7.78 2.81-2.81c.8-.78.8-2.07 0-2.86zM5.41 20L4 18.59l7.72-7.72 1.47 1.35L5.41 20z\"/>\n",
              "  </svg>\n",
              "      </button>\n",
              "      \n",
              "  <style>\n",
              "    .colab-df-container {\n",
              "      display:flex;\n",
              "      flex-wrap:wrap;\n",
              "      gap: 12px;\n",
              "    }\n",
              "\n",
              "    .colab-df-convert {\n",
              "      background-color: #E8F0FE;\n",
              "      border: none;\n",
              "      border-radius: 50%;\n",
              "      cursor: pointer;\n",
              "      display: none;\n",
              "      fill: #1967D2;\n",
              "      height: 32px;\n",
              "      padding: 0 0 0 0;\n",
              "      width: 32px;\n",
              "    }\n",
              "\n",
              "    .colab-df-convert:hover {\n",
              "      background-color: #E2EBFA;\n",
              "      box-shadow: 0px 1px 2px rgba(60, 64, 67, 0.3), 0px 1px 3px 1px rgba(60, 64, 67, 0.15);\n",
              "      fill: #174EA6;\n",
              "    }\n",
              "\n",
              "    [theme=dark] .colab-df-convert {\n",
              "      background-color: #3B4455;\n",
              "      fill: #D2E3FC;\n",
              "    }\n",
              "\n",
              "    [theme=dark] .colab-df-convert:hover {\n",
              "      background-color: #434B5C;\n",
              "      box-shadow: 0px 1px 3px 1px rgba(0, 0, 0, 0.15);\n",
              "      filter: drop-shadow(0px 1px 2px rgba(0, 0, 0, 0.3));\n",
              "      fill: #FFFFFF;\n",
              "    }\n",
              "  </style>\n",
              "\n",
              "      <script>\n",
              "        const buttonEl =\n",
              "          document.querySelector('#df-d7e6b7af-fc50-480c-96cc-e6d47af001c0 button.colab-df-convert');\n",
              "        buttonEl.style.display =\n",
              "          google.colab.kernel.accessAllowed ? 'block' : 'none';\n",
              "\n",
              "        async function convertToInteractive(key) {\n",
              "          const element = document.querySelector('#df-d7e6b7af-fc50-480c-96cc-e6d47af001c0');\n",
              "          const dataTable =\n",
              "            await google.colab.kernel.invokeFunction('convertToInteractive',\n",
              "                                                     [key], {});\n",
              "          if (!dataTable) return;\n",
              "\n",
              "          const docLinkHtml = 'Like what you see? Visit the ' +\n",
              "            '<a target=\"_blank\" href=https://colab.research.google.com/notebooks/data_table.ipynb>data table notebook</a>'\n",
              "            + ' to learn more about interactive tables.';\n",
              "          element.innerHTML = '';\n",
              "          dataTable['output_type'] = 'display_data';\n",
              "          await google.colab.output.renderOutput(dataTable, element);\n",
              "          const docLink = document.createElement('div');\n",
              "          docLink.innerHTML = docLinkHtml;\n",
              "          element.appendChild(docLink);\n",
              "        }\n",
              "      </script>\n",
              "    </div>\n",
              "  </div>\n",
              "  "
            ]
          },
          "metadata": {},
          "execution_count": 49
        }
      ]
    },
    {
      "cell_type": "code",
      "source": [
        "# Deleting the NULL values\n",
        "df = df.dropna(subset = ['description'])\n",
        "\n",
        "# Printing the shape\n",
        "print(df.shape)\n",
        "\n",
        "# Visualize the NULL observations\n",
        "df.isnull().sum()"
      ],
      "metadata": {
        "colab": {
          "base_uri": "https://localhost:8080/"
        },
        "id": "uxLF5RqaNotu",
        "outputId": "a5549217-3da0-4614-c817-ccf01169413f"
      },
      "execution_count": null,
      "outputs": [
        {
          "output_type": "stream",
          "name": "stdout",
          "text": [
            "(643166, 4)\n"
          ]
        },
        {
          "output_type": "execute_result",
          "data": {
            "text/plain": [
              "claimed        0\n",
              "category       0\n",
              "description    0\n",
              "impressions    0\n",
              "dtype: int64"
            ]
          },
          "metadata": {},
          "execution_count": 50
        }
      ]
    },
    {
      "cell_type": "markdown",
      "source": [
        "# Investigating the data"
      ],
      "metadata": {
        "id": "WZQUu8h4khDH"
      }
    },
    {
      "cell_type": "code",
      "source": [
        "# Investigate all the elements whithin each Feature \n",
        "\n",
        "for column in df:\n",
        "    unique_values = np.unique(df[column])\n",
        "    nr_values = len(unique_values)\n",
        "    if nr_values <= 10:\n",
        "        print(\"The number of values for feature {} is: {} -- {}\".format(column, nr_values, unique_values))\n",
        "    else:\n",
        "        print(\"The number of values for feature {} is: {}\".format(column, nr_values))"
      ],
      "metadata": {
        "colab": {
          "base_uri": "https://localhost:8080/"
        },
        "id": "8d-vBvoFL2x7",
        "outputId": "37ca4f16-63de-4c50-e94e-4c290bafb0a9"
      },
      "execution_count": null,
      "outputs": [
        {
          "output_type": "stream",
          "name": "stdout",
          "text": [
            "The number of values for feature claimed is: 2 -- [0 1]\n",
            "The number of values for feature category is: 2 -- [0 1]\n",
            "The number of values for feature description is: 2 -- [0 1]\n",
            "The number of values for feature impressions is: 2 -- [0 1]\n"
          ]
        }
      ]
    },
    {
      "cell_type": "code",
      "source": [
        "# Investigating the distr of y\n",
        "\n",
        "sns.countplot(x = 'impressions', data = df, palette = 'Set3')"
      ],
      "metadata": {
        "colab": {
          "base_uri": "https://localhost:8080/",
          "height": 296
        },
        "id": "5hsKlXldOhQw",
        "outputId": "723ca09a-1e2d-45af-e4f4-ac9946b0d71d"
      },
      "execution_count": null,
      "outputs": [
        {
          "output_type": "execute_result",
          "data": {
            "text/plain": [
              "<matplotlib.axes._subplots.AxesSubplot at 0x7efe8ae1e0d0>"
            ]
          },
          "metadata": {},
          "execution_count": 52
        },
        {
          "output_type": "display_data",
          "data": {
            "text/plain": [
              "<Figure size 432x288 with 1 Axes>"
            ],
            "image/png": "[encoded data removed]"
          },
          "metadata": {
            "needs_background": "light"
          }
        }
      ]
    },
    {
      "cell_type": "code",
      "source": [
        "df.columns\n"
      ],
      "metadata": {
        "colab": {
          "base_uri": "https://localhost:8080/"
        },
        "id": "5sEtKMvYOoRv",
        "outputId": "2395c12a-25f1-47f2-e2c0-861cfe4bd293"
      },
      "execution_count": null,
      "outputs": [
        {
          "output_type": "execute_result",
          "data": {
            "text/plain": [
              "Index(['claimed', 'category', 'description', 'impressions'], dtype='object')"
            ]
          },
          "metadata": {},
          "execution_count": 53
        }
      ]
    },
    {
      "cell_type": "code",
      "source": [
        "# Looping through all the features by our y variable - see if there is relationship\n",
        "\n",
        "features = ['claimed', 'category', 'description']\n",
        "\n",
        "for f in features:\n",
        "    sns.countplot(x = f, data = df, palette = 'Set3', hue = 'impressions')\n",
        "    plt.show()\n"
      ],
      "metadata": {
        "colab": {
          "base_uri": "https://localhost:8080/",
          "height": 803
        },
        "id": "V3-e2sirOw2-",
        "outputId": "47a7cb3b-8dda-4e7d-dca7-d082e62c2316"
      },
      "execution_count": null,
      "outputs": [
        {
          "output_type": "display_data",
          "data": {
            "text/plain": [
              "<Figure size 432x288 with 1 Axes>"
            ],
            "image/png": "[encoded data removed]"
          },
          "metadata": {
            "needs_background": "light"
          }
        },
        {
          "output_type": "display_data",
          "data": {
            "text/plain": [
              "<Figure size 432x288 with 1 Axes>"
            ],
            "image/png": "[encoded data removed]"
          },
          "metadata": {
            "needs_background": "light"
          }
        },
        {
          "output_type": "display_data",
          "data": {
            "text/plain": [
              "<Figure size 432x288 with 1 Axes>"
            ],
            "image/png": "[encoded data removed]"
          },
          "metadata": {
            "needs_background": "light"
          }
        }
      ]
    },
    {
      "cell_type": "markdown",
      "source": [
        "# Feature selection and importance"
      ],
      "metadata": {
        "id": "Mx4b_oVkP32j"
      }
    },
    {
      "cell_type": "code",
      "source": [
        "# Split the data into X & y\n",
        "\n",
        "X = df.drop('impressions', axis = 1).values\n",
        "y = df['impressions']\n",
        "\n",
        "y = y.astype(int)\n",
        "\n",
        "print(X.shape)\n",
        "print(y.shape)"
      ],
      "metadata": {
        "colab": {
          "base_uri": "https://localhost:8080/"
        },
        "id": "FNU24Kt5P7R7",
        "outputId": "b891454a-b983-4ebc-be1b-0325fe471c77"
      },
      "execution_count": null,
      "outputs": [
        {
          "output_type": "stream",
          "name": "stdout",
          "text": [
            "(643166, 3)\n",
            "(643166,)\n"
          ]
        }
      ]
    },
    {
      "cell_type": "code",
      "source": [
        "# Run a Tree-based estimators (i.e. decision trees & random forests)\n",
        "\n",
        "dt = DecisionTreeClassifier(random_state=15, criterion = 'entropy', max_depth = 10)\n",
        "dt.fit(X,y)"
      ],
      "metadata": {
        "colab": {
          "base_uri": "https://localhost:8080/"
        },
        "id": "w5hopRooQNpo",
        "outputId": "c19c1606-9f82-4460-ffd3-26cf68cec19c"
      },
      "execution_count": null,
      "outputs": [
        {
          "output_type": "execute_result",
          "data": {
            "text/plain": [
              "DecisionTreeClassifier(criterion='entropy', max_depth=10, random_state=15)"
            ]
          },
          "metadata": {},
          "execution_count": 56
        }
      ]
    },
    {
      "cell_type": "code",
      "source": [
        "# Running Feature Importance\n",
        "\n",
        "fi_col = []\n",
        "fi = []\n",
        "\n",
        "for i,column in enumerate(df.drop('impressions', axis = 1)):\n",
        "    print('The feature importance for {} is : {}'.format(column, dt.feature_importances_[i]))\n",
        "    \n",
        "    fi_col.append(column)\n",
        "    fi.append(dt.feature_importances_[i])\n"
      ],
      "metadata": {
        "colab": {
          "base_uri": "https://localhost:8080/"
        },
        "id": "nc4AKcjcQacf",
        "outputId": "5bdf2493-9c70-448c-e2a7-737e39f2d8bf"
      },
      "execution_count": null,
      "outputs": [
        {
          "output_type": "stream",
          "name": "stdout",
          "text": [
            "The feature importance for claimed is : 0.025354246004958895\n",
            "The feature importance for category is : 0.2172654132336585\n",
            "The feature importance for description is : 0.7573803407613826\n"
          ]
        }
      ]
    },
    {
      "cell_type": "markdown",
      "source": [
        "As expected, the three features are found important with description being the most important.\n",
        "\n"
      ],
      "metadata": {
        "id": "o5hPTzf5u7U1"
      }
    },
    {
      "cell_type": "code",
      "source": [
        "# Creating a Dataframe for Feature Importance\n",
        "fi_col\n",
        "fi\n",
        "\n",
        "fi_df = zip(fi_col, fi)\n",
        "fi_df = pd.DataFrame(fi_df, columns = ['Feature','Feature Importance'])\n",
        "fi_df\n",
        "\n",
        "\n",
        "# Ordering the data\n",
        "fi_df = fi_df.sort_values('Feature Importance', ascending = False).reset_index()\n",
        "\n",
        "# Creating columns to keep\n",
        "columns_to_keep = fi_df['Feature'][0:3]\n",
        "\n",
        "fi_df"
      ],
      "metadata": {
        "colab": {
          "base_uri": "https://localhost:8080/",
          "height": 143
        },
        "id": "T3M53AksQxZL",
        "outputId": "94ba5de5-210b-464f-b553-1c0c075c5b0e"
      },
      "execution_count": null,
      "outputs": [
        {
          "output_type": "execute_result",
          "data": {
            "text/plain": [
              "   index      Feature  Feature Importance\n",
              "0      2  description            0.757380\n",
              "1      1     category            0.217265\n",
              "2      0      claimed            0.025354"
            ],
            "text/html": [
              "\n",
              "  <div id=\"df-57801054-a71a-4728-8d0d-f883696df882\">\n",
              "    <div class=\"colab-df-container\">\n",
              "      <div>\n",
              "<style scoped>\n",
              "    .dataframe tbody tr th:only-of-type {\n",
              "        vertical-align: middle;\n",
              "    }\n",
              "\n",
              "    .dataframe tbody tr th {\n",
              "        vertical-align: top;\n",
              "    }\n",
              "\n",
              "    .dataframe thead th {\n",
              "        text-align: right;\n",
              "    }\n",
              "</style>\n",
              "<table border=\"1\" class=\"dataframe\">\n",
              "  <thead>\n",
              "    <tr style=\"text-align: right;\">\n",
              "      <th></th>\n",
              "      <th>index</th>\n",
              "      <th>Feature</th>\n",
              "      <th>Feature Importance</th>\n",
              "    </tr>\n",
              "  </thead>\n",
              "  <tbody>\n",
              "    <tr>\n",
              "      <th>0</th>\n",
              "      <td>2</td>\n",
              "      <td>description</td>\n",
              "      <td>0.757380</td>\n",
              "    </tr>\n",
              "    <tr>\n",
              "      <th>1</th>\n",
              "      <td>1</td>\n",
              "      <td>category</td>\n",
              "      <td>0.217265</td>\n",
              "    </tr>\n",
              "    <tr>\n",
              "      <th>2</th>\n",
              "      <td>0</td>\n",
              "      <td>claimed</td>\n",
              "      <td>0.025354</td>\n",
              "    </tr>\n",
              "  </tbody>\n",
              "</table>\n",
              "</div>\n",
              "      <button class=\"colab-df-convert\" onclick=\"convertToInteractive('df-57801054-a71a-4728-8d0d-f883696df882')\"\n",
              "              title=\"Convert this dataframe to an interactive table.\"\n",
              "              style=\"display:none;\">\n",
              "        \n",
              "  <svg xmlns=\"http://www.w3.org/2000/svg\" height=\"24px\"viewBox=\"0 0 24 24\"\n",
              "       width=\"24px\">\n",
              "    <path d=\"M0 0h24v24H0V0z\" fill=\"none\"/>\n",
              "    <path d=\"M18.56 5.44l.94 2.06.94-2.06 2.06-.94-2.06-.94-.94-2.06-.94 2.06-2.06.94zm-11 1L8.5 8.5l.94-2.06 2.06-.94-2.06-.94L8.5 2.5l-.94 2.06-2.06.94zm10 10l.94 2.06.94-2.06 2.06-.94-2.06-.94-.94-2.06-.94 2.06-2.06.94z\"/><path d=\"M17.41 7.96l-1.37-1.37c-.4-.4-.92-.59-1.43-.59-.52 0-1.04.2-1.43.59L10.3 9.45l-7.72 7.72c-.78.78-.78 2.05 0 2.83L4 21.41c.39.39.9.59 1.41.59.51 0 1.02-.2 1.41-.59l7.78-7.78 2.81-2.81c.8-.78.8-2.07 0-2.86zM5.41 20L4 18.59l7.72-7.72 1.47 1.35L5.41 20z\"/>\n",
              "  </svg>\n",
              "      </button>\n",
              "      \n",
              "  <style>\n",
              "    .colab-df-container {\n",
              "      display:flex;\n",
              "      flex-wrap:wrap;\n",
              "      gap: 12px;\n",
              "    }\n",
              "\n",
              "    .colab-df-convert {\n",
              "      background-color: #E8F0FE;\n",
              "      border: none;\n",
              "      border-radius: 50%;\n",
              "      cursor: pointer;\n",
              "      display: none;\n",
              "      fill: #1967D2;\n",
              "      height: 32px;\n",
              "      padding: 0 0 0 0;\n",
              "      width: 32px;\n",
              "    }\n",
              "\n",
              "    .colab-df-convert:hover {\n",
              "      background-color: #E2EBFA;\n",
              "      box-shadow: 0px 1px 2px rgba(60, 64, 67, 0.3), 0px 1px 3px 1px rgba(60, 64, 67, 0.15);\n",
              "      fill: #174EA6;\n",
              "    }\n",
              "\n",
              "    [theme=dark] .colab-df-convert {\n",
              "      background-color: #3B4455;\n",
              "      fill: #D2E3FC;\n",
              "    }\n",
              "\n",
              "    [theme=dark] .colab-df-convert:hover {\n",
              "      background-color: #434B5C;\n",
              "      box-shadow: 0px 1px 3px 1px rgba(0, 0, 0, 0.15);\n",
              "      filter: drop-shadow(0px 1px 2px rgba(0, 0, 0, 0.3));\n",
              "      fill: #FFFFFF;\n",
              "    }\n",
              "  </style>\n",
              "\n",
              "      <script>\n",
              "        const buttonEl =\n",
              "          document.querySelector('#df-57801054-a71a-4728-8d0d-f883696df882 button.colab-df-convert');\n",
              "        buttonEl.style.display =\n",
              "          google.colab.kernel.accessAllowed ? 'block' : 'none';\n",
              "\n",
              "        async function convertToInteractive(key) {\n",
              "          const element = document.querySelector('#df-57801054-a71a-4728-8d0d-f883696df882');\n",
              "          const dataTable =\n",
              "            await google.colab.kernel.invokeFunction('convertToInteractive',\n",
              "                                                     [key], {});\n",
              "          if (!dataTable) return;\n",
              "\n",
              "          const docLinkHtml = 'Like what you see? Visit the ' +\n",
              "            '<a target=\"_blank\" href=https://colab.research.google.com/notebooks/data_table.ipynb>data table notebook</a>'\n",
              "            + ' to learn more about interactive tables.';\n",
              "          element.innerHTML = '';\n",
              "          dataTable['output_type'] = 'display_data';\n",
              "          await google.colab.output.renderOutput(dataTable, element);\n",
              "          const docLink = document.createElement('div');\n",
              "          docLink.innerHTML = docLinkHtml;\n",
              "          element.appendChild(docLink);\n",
              "        }\n",
              "      </script>\n",
              "    </div>\n",
              "  </div>\n",
              "  "
            ]
          },
          "metadata": {},
          "execution_count": 58
        }
      ]
    },
    {
      "cell_type": "code",
      "source": [
        "# Print the shapes\n",
        "\n",
        "print(df.shape)\n",
        "print(df[columns_to_keep].shape)"
      ],
      "metadata": {
        "colab": {
          "base_uri": "https://localhost:8080/"
        },
        "id": "nzLjO5KHS6lx",
        "outputId": "0e34e7de-547e-4c9a-eb2f-6cc54977f239"
      },
      "execution_count": null,
      "outputs": [
        {
          "output_type": "stream",
          "name": "stdout",
          "text": [
            "(643166, 4)\n",
            "(643166, 3)\n"
          ]
        }
      ]
    },
    {
      "cell_type": "markdown",
      "source": [
        "# Model: logistic regression"
      ],
      "metadata": {
        "id": "ZevbngWftblf"
      }
    },
    {
      "cell_type": "code",
      "source": [
        "df.groupby(\"impressions\").mean()"
      ],
      "metadata": {
        "colab": {
          "base_uri": "https://localhost:8080/",
          "height": 143
        },
        "id": "ztAppLygtmjE",
        "outputId": "e17c23c8-cc40-4ab3-8dcb-e33220b63067"
      },
      "execution_count": null,
      "outputs": [
        {
          "output_type": "execute_result",
          "data": {
            "text/plain": [
              "              claimed  category  description\n",
              "impressions                                 \n",
              "0            0.524863  0.545935      0.53484\n",
              "1            0.673431  0.712238     0.702767"
            ],
            "text/html": [
              "\n",
              "  <div id=\"df-c2c8e81e-99e2-49c8-95e2-6e04cf55123b\">\n",
              "    <div class=\"colab-df-container\">\n",
              "      <div>\n",
              "<style scoped>\n",
              "    .dataframe tbody tr th:only-of-type {\n",
              "        vertical-align: middle;\n",
              "    }\n",
              "\n",
              "    .dataframe tbody tr th {\n",
              "        vertical-align: top;\n",
              "    }\n",
              "\n",
              "    .dataframe thead th {\n",
              "        text-align: right;\n",
              "    }\n",
              "</style>\n",
              "<table border=\"1\" class=\"dataframe\">\n",
              "  <thead>\n",
              "    <tr style=\"text-align: right;\">\n",
              "      <th></th>\n",
              "      <th>claimed</th>\n",
              "      <th>category</th>\n",
              "      <th>description</th>\n",
              "    </tr>\n",
              "    <tr>\n",
              "      <th>impressions</th>\n",
              "      <th></th>\n",
              "      <th></th>\n",
              "      <th></th>\n",
              "    </tr>\n",
              "  </thead>\n",
              "  <tbody>\n",
              "    <tr>\n",
              "      <th>0</th>\n",
              "      <td>0.524863</td>\n",
              "      <td>0.545935</td>\n",
              "      <td>0.53484</td>\n",
              "    </tr>\n",
              "    <tr>\n",
              "      <th>1</th>\n",
              "      <td>0.673431</td>\n",
              "      <td>0.712238</td>\n",
              "      <td>0.702767</td>\n",
              "    </tr>\n",
              "  </tbody>\n",
              "</table>\n",
              "</div>\n",
              "      <button class=\"colab-df-convert\" onclick=\"convertToInteractive('df-c2c8e81e-99e2-49c8-95e2-6e04cf55123b')\"\n",
              "              title=\"Convert this dataframe to an interactive table.\"\n",
              "              style=\"display:none;\">\n",
              "        \n",
              "  <svg xmlns=\"http://www.w3.org/2000/svg\" height=\"24px\"viewBox=\"0 0 24 24\"\n",
              "       width=\"24px\">\n",
              "    <path d=\"M0 0h24v24H0V0z\" fill=\"none\"/>\n",
              "    <path d=\"M18.56 5.44l.94 2.06.94-2.06 2.06-.94-2.06-.94-.94-2.06-.94 2.06-2.06.94zm-11 1L8.5 8.5l.94-2.06 2.06-.94-2.06-.94L8.5 2.5l-.94 2.06-2.06.94zm10 10l.94 2.06.94-2.06 2.06-.94-2.06-.94-.94-2.06-.94 2.06-2.06.94z\"/><path d=\"M17.41 7.96l-1.37-1.37c-.4-.4-.92-.59-1.43-.59-.52 0-1.04.2-1.43.59L10.3 9.45l-7.72 7.72c-.78.78-.78 2.05 0 2.83L4 21.41c.39.39.9.59 1.41.59.51 0 1.02-.2 1.41-.59l7.78-7.78 2.81-2.81c.8-.78.8-2.07 0-2.86zM5.41 20L4 18.59l7.72-7.72 1.47 1.35L5.41 20z\"/>\n",
              "  </svg>\n",
              "      </button>\n",
              "      \n",
              "  <style>\n",
              "    .colab-df-container {\n",
              "      display:flex;\n",
              "      flex-wrap:wrap;\n",
              "      gap: 12px;\n",
              "    }\n",
              "\n",
              "    .colab-df-convert {\n",
              "      background-color: #E8F0FE;\n",
              "      border: none;\n",
              "      border-radius: 50%;\n",
              "      cursor: pointer;\n",
              "      display: none;\n",
              "      fill: #1967D2;\n",
              "      height: 32px;\n",
              "      padding: 0 0 0 0;\n",
              "      width: 32px;\n",
              "    }\n",
              "\n",
              "    .colab-df-convert:hover {\n",
              "      background-color: #E2EBFA;\n",
              "      box-shadow: 0px 1px 2px rgba(60, 64, 67, 0.3), 0px 1px 3px 1px rgba(60, 64, 67, 0.15);\n",
              "      fill: #174EA6;\n",
              "    }\n",
              "\n",
              "    [theme=dark] .colab-df-convert {\n",
              "      background-color: #3B4455;\n",
              "      fill: #D2E3FC;\n",
              "    }\n",
              "\n",
              "    [theme=dark] .colab-df-convert:hover {\n",
              "      background-color: #434B5C;\n",
              "      box-shadow: 0px 1px 3px 1px rgba(0, 0, 0, 0.15);\n",
              "      filter: drop-shadow(0px 1px 2px rgba(0, 0, 0, 0.3));\n",
              "      fill: #FFFFFF;\n",
              "    }\n",
              "  </style>\n",
              "\n",
              "      <script>\n",
              "        const buttonEl =\n",
              "          document.querySelector('#df-c2c8e81e-99e2-49c8-95e2-6e04cf55123b button.colab-df-convert');\n",
              "        buttonEl.style.display =\n",
              "          google.colab.kernel.accessAllowed ? 'block' : 'none';\n",
              "\n",
              "        async function convertToInteractive(key) {\n",
              "          const element = document.querySelector('#df-c2c8e81e-99e2-49c8-95e2-6e04cf55123b');\n",
              "          const dataTable =\n",
              "            await google.colab.kernel.invokeFunction('convertToInteractive',\n",
              "                                                     [key], {});\n",
              "          if (!dataTable) return;\n",
              "\n",
              "          const docLinkHtml = 'Like what you see? Visit the ' +\n",
              "            '<a target=\"_blank\" href=https://colab.research.google.com/notebooks/data_table.ipynb>data table notebook</a>'\n",
              "            + ' to learn more about interactive tables.';\n",
              "          element.innerHTML = '';\n",
              "          dataTable['output_type'] = 'display_data';\n",
              "          await google.colab.output.renderOutput(dataTable, element);\n",
              "          const docLink = document.createElement('div');\n",
              "          docLink.innerHTML = docLinkHtml;\n",
              "          element.appendChild(docLink);\n",
              "        }\n",
              "      </script>\n",
              "    </div>\n",
              "  </div>\n",
              "  "
            ]
          },
          "metadata": {},
          "execution_count": 60
        }
      ]
    },
    {
      "cell_type": "markdown",
      "source": [
        "The average values of both cohorts are not that similar.\n",
        "\n",
        "Class overlap should not be a problem."
      ],
      "metadata": {
        "id": "hRAJaHQ3uyU7"
      }
    },
    {
      "cell_type": "code",
      "source": [
        "#sns.pairplot(df, hue=\"impressions\")"
      ],
      "metadata": {
        "id": "JEXm2x_7uW0t"
      },
      "execution_count": null,
      "outputs": []
    },
    {
      "cell_type": "code",
      "source": [
        "plt.figure(figsize=(10,7))\n",
        "corr_matrix = df.corr()\n",
        "sns.heatmap(corr_matrix, annot=True)\n",
        "plt.show()"
      ],
      "metadata": {
        "colab": {
          "base_uri": "https://localhost:8080/",
          "height": 432
        },
        "id": "Ciej4vqIv5zP",
        "outputId": "8eb3f6a3-af6f-40ad-bfb2-799d0ab58027"
      },
      "execution_count": null,
      "outputs": [
        {
          "output_type": "display_data",
          "data": {
            "text/plain": [
              "<Figure size 720x504 with 2 Axes>"
            ],
            "image/png": "[encoded data removed]"
          },
          "metadata": {
            "needs_background": "light"
          }
        }
      ]
    },
    {
      "cell_type": "markdown",
      "source": [
        "Hold-out validation is used because of the size of the dataset"
      ],
      "metadata": {
        "id": "afKiO3bi5pvE"
      }
    },
    {
      "cell_type": "code",
      "source": [
        "# Split the data into X & y\n",
        "\n",
        "X = df[columns_to_keep].values\n",
        "X\n",
        "\n",
        "y = df['impressions']\n",
        "y = y.astype(int)\n",
        "y\n",
        "\n",
        "print(X.shape)\n",
        "print(y.shape)"
      ],
      "metadata": {
        "colab": {
          "base_uri": "https://localhost:8080/"
        },
        "id": "0HvFkQO_8ZhJ",
        "outputId": "fda6a5b4-05e0-47de-fae0-9a66b3f9c7fd"
      },
      "execution_count": null,
      "outputs": [
        {
          "output_type": "stream",
          "name": "stdout",
          "text": [
            "(643166, 3)\n",
            "(643166,)\n"
          ]
        }
      ]
    },
    {
      "cell_type": "code",
      "source": [
        "# Hold-out validation\n",
        "\n",
        "# first one\n",
        "X_train, X_test, y_train, y_test = train_test_split(X, y, train_size = 0.7, test_size=0.3, random_state=15)\n",
        "\n",
        "# Second one\n",
        "X_train, X_valid, y_train, y_valid = train_test_split(X_train, y_train, train_size = 0.8, test_size=0.2, random_state=15)\n",
        "\n",
        "print(X_train.shape)\n",
        "print(X_test.shape)\n",
        "print(X_valid.shape)\n",
        "\n",
        "print(y_train.shape)\n",
        "print(y_test.shape)\n",
        "print(y_valid.shape)"
      ],
      "metadata": {
        "colab": {
          "base_uri": "https://localhost:8080/"
        },
        "id": "HgOP5ICz8fWd",
        "outputId": "e6523049-c72f-431a-e0a2-d883d841c1de"
      },
      "execution_count": null,
      "outputs": [
        {
          "output_type": "stream",
          "name": "stdout",
          "text": [
            "(360172, 3)\n",
            "(192950, 3)\n",
            "(90044, 3)\n",
            "(360172,)\n",
            "(192950,)\n",
            "(90044,)\n"
          ]
        }
      ]
    },
    {
      "cell_type": "code",
      "source": [
        "class_weights = class_weight.compute_class_weight(class_weight=\"balanced\", classes=np.unique(y_train), y=y_train)\n",
        "print(class_weights)"
      ],
      "metadata": {
        "colab": {
          "base_uri": "https://localhost:8080/"
        },
        "id": "9JrxwaTny43K",
        "outputId": "c894de7b-01d4-45e5-a77b-fa4fc0741f79"
      },
      "execution_count": null,
      "outputs": [
        {
          "output_type": "stream",
          "name": "stdout",
          "text": [
            "[0.67975963 1.89074607]\n"
          ]
        }
      ]
    },
    {
      "cell_type": "code",
      "source": [
        "LogReg = LogisticRegression(random_state=0, max_iter=1000, class_weight=class_weights).fit(X_train, y_train)"
      ],
      "metadata": {
        "colab": {
          "base_uri": "https://localhost:8080/"
        },
        "id": "zmwYvulm7j6l",
        "outputId": "6d588844-f5cc-4682-9d3f-536938f8a282"
      },
      "execution_count": null,
      "outputs": [
        {
          "output_type": "stream",
          "name": "stderr",
          "text": [
            "/usr/local/lib/python3.8/dist-packages/sklearn/linear_model/_logistic.py:705: FutureWarning: elementwise comparison failed; returning scalar instead, but in the future will perform elementwise comparison\n",
            "  if class_weight == \"balanced\":\n"
          ]
        }
      ]
    },
    {
      "cell_type": "code",
      "source": [
        "print(\"Prediction accuracy \", round(LogReg.score(X_test, y_test) * 100, 2),\"%\")"
      ],
      "metadata": {
        "colab": {
          "base_uri": "https://localhost:8080/"
        },
        "id": "fr0ReAZU8xfg",
        "outputId": "f4997e18-f5cc-4ea1-f8e0-259e73e542bd"
      },
      "execution_count": null,
      "outputs": [
        {
          "output_type": "stream",
          "name": "stdout",
          "text": [
            "Prediction accuracy  73.41 %\n"
          ]
        }
      ]
    },
    {
      "cell_type": "markdown",
      "source": [
        "**Adjusting the decision boundary**\n",
        "\n",
        "Different probabilty thresholds are tried (default p=0.5) to understand whether we can optimise the F1-Score. \n"
      ],
      "metadata": {
        "id": "9IFwXaom6H56"
      }
    },
    {
      "cell_type": "code",
      "source": [
        "# apply threshold to positive probabilities to create labels\n",
        "def to_labels(pos_probs, threshold):\n",
        "    return (pos_probs >= threshold).astype(\"int\")"
      ],
      "metadata": {
        "id": "NQyePjzL5awJ"
      },
      "execution_count": null,
      "outputs": []
    },
    {
      "cell_type": "code",
      "source": [
        "def get_best_parameters(LogReg, X_test):\n",
        "\n",
        "    # define thresholds\n",
        "    thresholds = np.arange(0, 1, 0.001)\n",
        "    pos_probs = LogReg.predict_proba(X_test)[:, 1]\n",
        "\n",
        "    # evaluate each threshold\n",
        "    scores = [f1_score(y_test, to_labels(pos_probs, t)) for t in thresholds]\n",
        "\n",
        "    # get best threshold\n",
        "    ix = np.argmax(scores)\n",
        "    print(\"Threshold=%.3f, F-Score=%.5f\" % (thresholds[ix], scores[ix]))\n",
        "    \n",
        "    return np.where(pos_probs > thresholds[ix], 1, 0)"
      ],
      "metadata": {
        "id": "GVv3i-re6CAA"
      },
      "execution_count": null,
      "outputs": []
    },
    {
      "cell_type": "code",
      "source": [
        "y_pred_new = get_best_parameters(LogReg, X_test)"
      ],
      "metadata": {
        "colab": {
          "base_uri": "https://localhost:8080/"
        },
        "id": "jKbkKtEY9pga",
        "outputId": "21d94d16-9643-4234-92d4-3d3db8087d21"
      },
      "execution_count": null,
      "outputs": [
        {
          "output_type": "stream",
          "name": "stdout",
          "text": [
            "Threshold=0.223, F-Score=0.45050\n"
          ]
        }
      ]
    },
    {
      "cell_type": "markdown",
      "source": [
        "# Evaluating the Model"
      ],
      "metadata": {
        "id": "cdKiCRZ4ERsk"
      }
    },
    {
      "cell_type": "markdown",
      "source": [
        "Accuracy and classification report"
      ],
      "metadata": {
        "id": "qATOfGQyYe3A"
      }
    },
    {
      "cell_type": "code",
      "source": [
        "# Accuracy on Train\n",
        "print(\"The Training Accuracy is: \", LogReg.score(X_train, y_train))\n",
        "\n",
        "\n",
        "# Accuracy on Test\n",
        "print(\"The Testing Accuracy is: \", LogReg.score(X_test, y_test))\n",
        "\n",
        "# Classification Report\n",
        "print(classification_report(y_test, y_pred_new))"
      ],
      "metadata": {
        "colab": {
          "base_uri": "https://localhost:8080/"
        },
        "id": "8FAJG7wAD-6y",
        "outputId": "96498d10-1202-494a-b20b-a5007d7a2f57"
      },
      "execution_count": null,
      "outputs": [
        {
          "output_type": "stream",
          "name": "stdout",
          "text": [
            "The Training Accuracy is:  0.7355541241406883\n",
            "The Testing Accuracy is:  0.7341383778180876\n",
            "              precision    recall  f1-score   support\n",
            "\n",
            "           0       0.83      0.40      0.54    141652\n",
            "           1       0.32      0.77      0.45     51298\n",
            "\n",
            "    accuracy                           0.50    192950\n",
            "   macro avg       0.57      0.59      0.49    192950\n",
            "weighted avg       0.69      0.50      0.51    192950\n",
            "\n"
          ]
        }
      ]
    },
    {
      "cell_type": "markdown",
      "source": [
        "Confusion matrix"
      ],
      "metadata": {
        "id": "HY7ocLuxYkMr"
      }
    },
    {
      "cell_type": "code",
      "source": [
        "confusion_matrix(y_test, y_pred_new)"
      ],
      "metadata": {
        "colab": {
          "base_uri": "https://localhost:8080/"
        },
        "id": "TZPPL17H-PhW",
        "outputId": "d916f0f2-871c-45b1-ab0d-081be81b5c2f"
      },
      "execution_count": null,
      "outputs": [
        {
          "output_type": "execute_result",
          "data": {
            "text/plain": [
              "array([[56212, 85440],\n",
              "       [11543, 39755]])"
            ]
          },
          "metadata": {},
          "execution_count": 72
        }
      ]
    },
    {
      "cell_type": "code",
      "source": [
        "#print(f\"F1 score {round(f1_score(y_test, y_pred_new), 4)}\")"
      ],
      "metadata": {
        "id": "3twTjVShGeEX"
      },
      "execution_count": null,
      "outputs": []
    },
    {
      "cell_type": "code",
      "source": [
        "# Methods we can use in Logistic\n",
        "\n",
        "# predict - Predict class labels for samples in X\n",
        "LogReg.predict(X_train)\n",
        "y_pred = LogReg.predict(X_train)\n",
        "\n",
        "# predict_proba - Probability estimates\n",
        "pred_proba = LogReg.predict_proba(X_train)\n",
        "\n",
        "# coef_ - Coefficient of the features in the decision function\n",
        "LogReg.coef_\n",
        "\n",
        "# score- Returns the mean accuracy on the given test data and labels - below"
      ],
      "metadata": {
        "colab": {
          "base_uri": "https://localhost:8080/"
        },
        "id": "VgvP6ZgIGLW3",
        "outputId": "1daaeefb-8b46-46f6-efd6-91d11b9ba6d1"
      },
      "execution_count": null,
      "outputs": [
        {
          "output_type": "execute_result",
          "data": {
            "text/plain": [
              "array([[0.42385415, 0.36970502, 0.16391897]])"
            ]
          },
          "metadata": {},
          "execution_count": 74
        }
      ]
    },
    {
      "cell_type": "code",
      "source": [
        "# Confusion Matrix function\n",
        "\n",
        "def plot_confusion_matrix(cm, classes=None, title='Confusion matrix'):\n",
        "    \"\"\"Plots a confusion matrix.\"\"\"\n",
        "    if classes is not None:\n",
        "        sns.heatmap(cm, cmap=\"YlGnBu\", xticklabels=classes, yticklabels=classes, vmin=0., vmax=1., annot=True, annot_kws={'size':50})\n",
        "    else:\n",
        "        sns.heatmap(cm, vmin=0., vmax=1.)\n",
        "    plt.title(title)\n",
        "    plt.ylabel('True label')\n",
        "    plt.xlabel('Predicted label')"
      ],
      "metadata": {
        "id": "ZL-V4zlmKjss"
      },
      "execution_count": null,
      "outputs": []
    },
    {
      "cell_type": "code",
      "source": [
        "# Visualizing cm\n",
        "\n",
        "cm = confusion_matrix(y_test, y_pred_new)\n",
        "cm_norm = cm / cm.sum(axis=1).reshape(-1,1)\n",
        "\n",
        "plot_confusion_matrix(cm_norm, classes = LogReg.classes_, title='Confusion matrix')"
      ],
      "metadata": {
        "colab": {
          "base_uri": "https://localhost:8080/",
          "height": 295
        },
        "id": "3ZdSdNABKlnZ",
        "outputId": "cdc44a54-33d6-4a27-95d3-7b212e0afd30"
      },
      "execution_count": null,
      "outputs": [
        {
          "output_type": "display_data",
          "data": {
            "text/plain": [
              "<Figure size 432x288 with 2 Axes>"
            ],
            "image/png": "[encoded data removed]"
          },
          "metadata": {
            "needs_background": "light"
          }
        }
      ]
    },
    {
      "cell_type": "code",
      "source": [
        "# Calculating False Positives (FP), False Negatives (FN), True Positives (TP) & True Negatives (TN)\n",
        "\n",
        "FP = cm.sum(axis=0) - np.diag(cm)\n",
        "FN = cm.sum(axis=1) - np.diag(cm)\n",
        "TP = np.diag(cm)\n",
        "TN = cm.sum() - (FP + FN + TP)\n",
        "\n",
        "\n",
        "# Sensitivity, hit rate, recall, or true positive rate\n",
        "TPR = TP / (TP + FN)\n",
        "print(\"The True Positive Rate is:\", TPR)\n",
        "\n",
        "# Precision or positive predictive value\n",
        "PPV = TP / (TP + FP)\n",
        "print(\"The Precision is:\", PPV)\n",
        "\n",
        "# False positive rate or False alarm rate\n",
        "FPR = FP / (FP + TN)\n",
        "print(\"The False positive rate is:\", FPR)\n",
        "\n",
        "# False negative rate or Miss Rate\n",
        "FNR = FN / (FN + TP)\n",
        "print(\"The False Negative Rate is: \", FNR)\n",
        "\n",
        "##Total averages :\n",
        "print(\"\")\n",
        "print(\"The average TPR is:\", TPR.sum()/2)\n",
        "print(\"The average Precision is:\", PPV.sum()/2)\n",
        "print(\"The average False positive rate is:\", FPR.sum()/2)\n",
        "print(\"The average False Negative Rate is:\", FNR.sum()/2)"
      ],
      "metadata": {
        "colab": {
          "base_uri": "https://localhost:8080/"
        },
        "id": "i6duQgo2rzyl",
        "outputId": "dc00cd8e-7c13-4b15-8e80-6522bb48f6a9"
      },
      "execution_count": null,
      "outputs": [
        {
          "output_type": "stream",
          "name": "stdout",
          "text": [
            "The True Positive Rate is: [0.39683167 0.77498148]\n",
            "The Precision is: [0.82963619 0.31754463]\n",
            "The False positive rate is: [0.22501852 0.60316833]\n",
            "The False Negative Rate is:  [0.60316833 0.22501852]\n",
            "\n",
            "The average TPR is: 0.585906576372174\n",
            "The average Precision is: 0.5735904097938704\n",
            "The average False positive rate is: 0.4140934236278259\n",
            "The average False Negative Rate is: 0.4140934236278259\n"
          ]
        }
      ]
    },
    {
      "cell_type": "markdown",
      "source": [
        "Log loss and log odds"
      ],
      "metadata": {
        "id": "qejYy8HjYpCJ"
      }
    },
    {
      "cell_type": "code",
      "source": [
        "# Running Log loss on training\n",
        "print(\"The Log Loss on Training is: \", log_loss(y_train, pred_proba))\n",
        "\n",
        "# Running Log loss on testing\n",
        "pred_proba_t = LogReg.predict_proba(X_test)\n",
        "print(\"The Log Loss on Testing Dataset is: \", log_loss(y_test, pred_proba_t))"
      ],
      "metadata": {
        "colab": {
          "base_uri": "https://localhost:8080/"
        },
        "id": "0E1zSjega2g6",
        "outputId": "e7448682-0f71-4ddc-b891-a66a7d8e04e9"
      },
      "execution_count": null,
      "outputs": [
        {
          "output_type": "stream",
          "name": "stdout",
          "text": [
            "The Log Loss on Training is:  0.5628154863499796\n",
            "The Log Loss on Testing Dataset is:  0.5639848398818641\n"
          ]
        }
      ]
    },
    {
      "cell_type": "code",
      "source": [
        "log_odds = LogReg.coef_\n",
        "odds = np.exp(log_odds)\n",
        "\n",
        "print(odds)"
      ],
      "metadata": {
        "colab": {
          "base_uri": "https://localhost:8080/"
        },
        "id": "qf1-kpBrgHsS",
        "outputId": "66c370c3-7a65-4bfb-a9f6-7edfa7e41490"
      },
      "execution_count": null,
      "outputs": [
        {
          "output_type": "stream",
          "name": "stdout",
          "text": [
            "[[1.52783875 1.44730762 1.17811884]]\n"
          ]
        }
      ]
    },
    {
      "cell_type": "code",
      "source": [
        "def logit2prob(LogReg, X):\n",
        "  log_odds = LogReg.coef_ * X + LogReg.intercept_\n",
        "  odds = np.exp(log_odds)\n",
        "  probability = odds / (1 + odds)\n",
        "  return(probability)\n",
        "\n",
        "print(logit2prob(LogReg, X.astype(np.float64)))"
      ],
      "metadata": {
        "colab": {
          "base_uri": "https://localhost:8080/"
        },
        "id": "FT5fQjRBVORh",
        "outputId": "1b489d69-1cdb-4843-b8e7-ee44fa763fdd"
      },
      "execution_count": null,
      "outputs": [
        {
          "output_type": "stream",
          "name": "stdout",
          "text": [
            "[[0.2324594  0.22293826 0.18932364]\n",
            " [0.2324594  0.16543532 0.16543532]\n",
            " [0.2324594  0.22293826 0.18932364]\n",
            " ...\n",
            " [0.16543532 0.16543532 0.18932364]\n",
            " [0.16543532 0.16543532 0.18932364]\n",
            " [0.16543532 0.16543532 0.16543532]]\n"
          ]
        }
      ]
    },
    {
      "cell_type": "code",
      "source": [
        "import numpy\n",
        "from sklearn import linear_model\n",
        "\n",
        "X = numpy.array([3.78, 2.44, 2.09, 0.14, 1.72, 1.65, 4.92, 4.37, 4.96, 4.52, 3.69, 5.88]).reshape(-1,1)\n",
        "y = numpy.array([0, 0, 0, 0, 0, 0, 1, 1, 1, 1, 1, 1])\n",
        "\n",
        "logr = linear_model.LogisticRegression()\n",
        "logr.fit(X,y)\n",
        "\n",
        "def logit2prob(logr, X):\n",
        "  log_odds = logr.coef_ * X + logr.intercept_\n",
        "  odds = numpy.exp(log_odds)\n",
        "  probability = odds / (1 + odds)\n",
        "  return(probability)\n",
        "\n",
        "print(logit2prob(logr, X))"
      ],
      "metadata": {
        "id": "pPjjCT_iU9-l"
      },
      "execution_count": null,
      "outputs": []
    },
    {
      "cell_type": "markdown",
      "source": [
        "The probability that a CPP has a **description** and and received impressions is **60%**\n",
        "\n",
        "The probability that a CPP has a **category** and and received impressions is **59%**\n",
        "\n",
        "The probability that a CPP **is claimed** and and received impressions is **54%**\n",
        "\n",
        "\n",
        "\n"
      ],
      "metadata": {
        "id": "ciLijVBJY1yf"
      }
    }
  ]
}